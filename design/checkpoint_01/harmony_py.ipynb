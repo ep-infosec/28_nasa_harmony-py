{
 "metadata": {
  "language_info": {
   "codemirror_mode": {
    "name": "ipython",
    "version": 3
   },
   "file_extension": ".py",
   "mimetype": "text/x-python",
   "name": "python",
   "nbconvert_exporter": "python",
   "pygments_lexer": "ipython3",
   "version": "3.8.5-final"
  },
  "orig_nbformat": 2,
  "kernelspec": {
   "name": "python3",
   "display_name": "Python 3.8.5 64-bit",
   "metadata": {
    "interpreter": {
     "hash": "31862cc71836a94b0e0781803a3648767fc4cb197cc35bade0ddf231ddce7d7c"
    }
   }
  }
 },
 "nbformat": 4,
 "nbformat_minor": 2,
 "cells": [
  {
   "source": [
    "# Usage Overview\n",
    "The following is an example mocked outline for `harmony-py`. \n"
   ],
   "cell_type": "markdown",
   "metadata": {}
  },
  {
   "cell_type": "code",
   "execution_count": 1,
   "metadata": {},
   "outputs": [],
   "source": [
    "from harmony_py_mock import HarmonyRequest\n"
   ]
  },
  {
   "cell_type": "code",
   "execution_count": 2,
   "metadata": {},
   "outputs": [],
   "source": [
    "req = HarmonyRequest()\n"
   ]
  },
  {
   "cell_type": "code",
   "execution_count": 3,
   "metadata": {},
   "outputs": [],
   "source": [
    "# Multiple authentication options outlined below.\n",
    "req.authenticate()\n"
   ]
  },
  {
   "cell_type": "code",
   "execution_count": 4,
   "metadata": {},
   "outputs": [],
   "source": [
    "collection_id = 'C1940468263-POCLOUD'\n",
    "\n",
    "req.params = {\n",
    "    'collection_id': collection_id,\n",
    "    'ogc-api-coverages_version': '1.0.0',\n",
    "    'variable': 'all',\n",
    "    'lat':'(40:41)',\n",
    "    'lon':'(-107:-105)',\n",
    "    'start': '2020-06-01T00:00:00Z',\n",
    "    'stop':'2020-06-30T23:59:59Z',\n",
    "    'format': 'application/x-zarr',\n",
    "}\n"
   ]
  },
  {
   "cell_type": "code",
   "execution_count": 5,
   "metadata": {},
   "outputs": [
    {
     "output_type": "stream",
     "name": "stdout",
     "text": [
      "Processing request:\n",
      "100% (100 of 100) |######################| Elapsed Time: 0:00:08 Time:  0:00:08\n",
      "Request processing complete.\n"
     ]
    }
   ],
   "source": [
    "# Note: By default the user does not specify sync or async. Optional: specify request type.\n",
    "req.submit()\n",
    "# OR\n",
    "HarmonyRequest.submit(req)\n"
   ]
  },
  {
   "cell_type": "code",
   "execution_count": 6,
   "metadata": {},
   "outputs": [],
   "source": [
    "output = req.output\n",
    "\n"
   ]
  },
  {
   "source": [
    "# Further Examples"
   ],
   "cell_type": "markdown",
   "metadata": {}
  },
  {
   "source": [
    "## Request Parameters"
   ],
   "cell_type": "markdown",
   "metadata": {}
  },
  {
   "cell_type": "code",
   "execution_count": 7,
   "metadata": {},
   "outputs": [],
   "source": [
    "import datetime\n",
    "\n",
    "collection_id = 'C1940468263-POCLOUD'\n",
    "\n",
    "req.params = {\n",
    "    'collection_id': collection_id,\n",
    "    'ogc-api-coverages_version': '1.0.0',\n",
    "    'variable': 'all',\n",
    "    'lat':'(40:41)',\n",
    "    'lon':'(-107:-105)',\n",
    "    'start': '2020-06-01T00:00:00Z',\n",
    "    'stop':'2020-06-30T23:59:59Z',\n",
    "    'format': 'application/x-zarr',\n",
    "}\n",
    "\n",
    "# or\n",
    "\n",
    "req.params = {\n",
    "    'collection_id': collection_id,\n",
    "    'lat': (40, 42),  # (min, max) format\n",
    "    'lon': (-107, -105),  # (min, max) format\n",
    "    'start': datetime.date(2020, 6, 1),  # date object\n",
    "    'stop': datetime.date(2020, 6, 30),  # date object\n",
    "    'format': HarmonyRequest.format.zarr,\n",
    "}\n",
    "\n",
    "# alternative: Keyword attributes or request object w/ methods for setting individually or grouped as warranted\n",
    "# - bounding box class? Allow for shape / polygons\n",
    "# - maybe namedtuple\n",
    "# - enumerated types; leverage typing; structural vs. semantic validation\n",
    "#   - validate values for each (type based on enum type)\n",
    "#   - validate sanity (start not after stop, etc.)\n",
    "#   - validation automatic prior to sending to Harmony and while constructing request (moreso the latter)\n",
    "# - think about what the API docs will look like; autocomplete kwargs\n",
    "# - is there a commonly used 'bounding box' thing that others use?\n",
    "# - are we going to have a multi-option API or specific option?\n",
    "# - validate requests before sending to Harmony\n",
    "#   - instantiating the class would implicitly validate\n",
    "# - hide OGC particulars from end-users; make it pythonic\n",
    "# - bag of parameters vs. chained method calls (dot notation); builder pattern\n",
    "#   - incremental approach has advantages for conveying documentation and demos\n",
    "# - decouple particular services from subset/transformation\n",
    "# - make sure request can be built incrementally, parameter by parameter ?\n",
    "#   - allow both all at once as well as incremental change/addition\n",
    "# - _collection_ should be separate 'building stage'; pulled out as a separate entity\n",
    "#   - what is the best way to interoperate with CMR python library\n",
    "\n",
    "# modules for API; modules for CLI\n",
    "# - allow either use for harmony python library\n",
    "\n",
    "# or\n",
    "\n",
    "req.params = {\n",
    "    'collection_id': collection_id,\n",
    "    'lat': (40, 42),\n",
    "    'lon': (-107, -105),\n",
    "    'temporal': '2020-6-1, 30 days',  # DSL\n",
    "      # or\n",
    "    'temporal': '2012-6-1 for 2 months every year for 6 years',  # DSL for seasonal temporal period\n",
    "    'output_format': HarmonyRequest.format.zarr\n",
    "}\n",
    "\n",
    "# recommend or provide examples of third-party library to generate lists of time periods\n",
    "# - timedeltas?\n",
    "# - arrow  https://github.com/vinta/awesome-python#date-and-time\n"
   ]
  },
  {
   "source": [
    "## Authentication"
   ],
   "cell_type": "markdown",
   "metadata": {}
  },
  {
   "source": [
    "req = HarmonyRequest()\n",
    "\n",
    "# Authentication options:\n",
    "#   .) specify `username` and `password`\n",
    "#   .) specify `username` and receive password prompt\n",
    "#   .) specify .netrc\n",
    "#   .) read .netrc in default location\n",
    "#   .) read .env file\n",
    "#   .) read ENV vars    \n",
    "\n",
    "req.authenticate(username='myusername', password='supersecret')\n",
    "# or\n",
    "req.authenticate(username='myusername')\n",
    "# or\n",
    "req.authenticate(netrc='/usr/local/etc/some/path/.netrc')\n",
    "\n",
    "# or\n",
    "req.authenticate()\n",
    "\n",
    "\n",
    "# Use requests library .netrc support\n",
    "#  - utils modules in requests\n",
    "\n",
    "# check out requests usage w/ async in harmony-netcdf-to-zarr\n"
   ],
   "cell_type": "code",
   "metadata": {},
   "execution_count": 8,
   "outputs": [
    {
     "output_type": "stream",
     "name": "stdout",
     "text": [
      "'username' and 'password' accepted.\n"
     ]
    }
   ]
  },
  {
   "source": [
    "## Determine Service Availability and Variables / Working with CMR"
   ],
   "cell_type": "markdown",
   "metadata": {}
  },
  {
   "cell_type": "code",
   "execution_count": 9,
   "metadata": {},
   "outputs": [],
   "source": [
    "# NOTES:\n",
    "# - Decide what ServiceOptions to use from UMM-S\n",
    "# - The extent to which we wrap the CMR python library OR (preferred) integrate with the CMR python library\n",
    "# - What UMM-C metadata to expose?\n",
    "# - UMM-C assocation to UMM-S\n",
    "# - UMM-Var\n",
    "\n",
    "\n",
    "req = HarmonyRequest()\n",
    "req.params = {\n",
    "    'collection_id': collection_id,\n",
    "    'lat': (40, 42),\n",
    "    'lon': (-107, -105),\n",
    "    'temporal': '2020-6-1, 30 days',\n",
    "    'format': HarmonyRequest.format.zarr\n",
    "}\n",
    "#req.dataset.info()  # similar to icepyx\n",
    "#req.dataset.service_availability()  # similar to icepyx\n",
    "#req.dataset.variables()\n",
    "\n",
    "# Probably out of scope:\n",
    "#req.spatial.visualize()  # similar to icepyx - map with bbox overlay\n",
    "\n",
    "\n",
    "# Use CMR library as much as possible; in-scope to make CMR library contributions as needed"
   ]
  },
  {
   "source": [
    "## Retrieve Results in Cloud: In / Out of Region; Internet Retrieval"
   ],
   "cell_type": "markdown",
   "metadata": {}
  },
  {
   "cell_type": "code",
   "execution_count": null,
   "metadata": {},
   "outputs": [],
   "source": [
    "# Report back number of files and total size of data\n",
    "\n",
    "# Should the Harmony python library return job results or simply a job id so they may follow up with results outside of the python library?\n",
    "# We need a way to expose the job / job id to at least be able to cancel it\n",
    "# - block forever for request to finish OR get a job id to retrieve results outside of Harmony python library\n",
    "# - provide information on time/size of request\n",
    "# - job status\n",
    "# - cancellable"
   ]
  },
  {
   "source": [
    "## Error Notification and Handling"
   ],
   "cell_type": "markdown",
   "metadata": {}
  },
  {
   "source": [
    "## Notes:"
   ],
   "cell_type": "markdown",
   "metadata": {}
  },
  {
   "cell_type": "code",
   "execution_count": null,
   "metadata": {},
   "outputs": [],
   "source": [
    "# Do we need to support restricted datasets (w/ CMR token)\n",
    "# - currently authentication is only grabbing an EDL cookie\n",
    "\n",
    "# CMR library\n",
    "# - we need to understand its capabilities now and near-future; what will we be able to use?\n",
    "# - cmr-stac ?\n",
    "\n",
    "# STAC\n",
    "# What STAC information is exposed to the end-user?\n",
    "\n",
    "# Verbs\n",
    "# HTTP or higher level concepts like \"subset\"\n",
    "# - used 'submit' instead"
   ]
  }
 ]
}